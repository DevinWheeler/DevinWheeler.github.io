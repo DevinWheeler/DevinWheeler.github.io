{
 "cells": [
  {
   "cell_type": "code",
   "execution_count": 1,
   "id": "1f4a8082",
   "metadata": {},
   "outputs": [
    {
     "name": "stdout",
     "output_type": "stream",
     "text": [
      "Inserting document:\n"
     ]
    },
    {
     "ename": "NameError",
     "evalue": "name 'sample_document' is not defined",
     "output_type": "error",
     "traceback": [
      "\u001b[0;31m---------------------------------------------------------------------------\u001b[0m",
      "\u001b[0;31mNameError\u001b[0m                                 Traceback (most recent call last)",
      "Input \u001b[0;32mIn [1]\u001b[0m, in \u001b[0;36m<cell line: 27>\u001b[0;34m()\u001b[0m\n\u001b[1;32m     25\u001b[0m \u001b[38;5;66;03m# Test the create method\u001b[39;00m\n\u001b[1;32m     26\u001b[0m \u001b[38;5;28mprint\u001b[39m(\u001b[38;5;124m\"\u001b[39m\u001b[38;5;124mInserting document:\u001b[39m\u001b[38;5;124m\"\u001b[39m)\n\u001b[0;32m---> 27\u001b[0m insert_result \u001b[38;5;241m=\u001b[39m shelter\u001b[38;5;241m.\u001b[39mcreate(\u001b[43msample_document\u001b[49m)\n\u001b[1;32m     28\u001b[0m \u001b[38;5;28mprint\u001b[39m(\u001b[38;5;124mf\u001b[39m\u001b[38;5;124m\"\u001b[39m\u001b[38;5;124mInsert successful: \u001b[39m\u001b[38;5;132;01m{\u001b[39;00minsert_result\u001b[38;5;132;01m}\u001b[39;00m\u001b[38;5;124m\"\u001b[39m)\n\u001b[1;32m     30\u001b[0m \u001b[38;5;66;03m#check for create\u001b[39;00m\n",
      "\u001b[0;31mNameError\u001b[0m: name 'sample_document' is not defined"
     ]
    }
   ],
   "source": [
    "import json\n",
    "from AnimalShelter import AnimalShelter\n",
    "\n",
    "# Instantiate the AnimalShelter class\n",
    "shelter = AnimalShelter()\n",
    "\n",
    "# Define a sample animal to insert\n",
    "sample_insert = {\n",
    "    \"age_upon_outcome\": \"2 years\",\n",
    "    \"animal_id\": \"A720438\",\n",
    "    \"animal_type\": \"Dog\",\n",
    "    \"breed\": \"Pitbull\",\n",
    "    \"color\": \"Black\",\n",
    "    \"date_of_birth\": \"2023-07-14\",\n",
    "    \"datetime\": \"2024-05-20 09:22:00\",\n",
    "    \"monthyear\": \"2024-05\",\n",
    "    \"name\": \"Spanky\",\n",
    "    \"outcome_subtype\": \"\",\n",
    "    \"outcome_type\": \"Adoption\",\n",
    "    \"sex_upon_outcome\": \"Neutered Male\",\n",
    "    \"location_lat\": 30.7137,\n",
    "    \"location_long\": -97.4682\n",
    "}\n",
    "\n",
    "# Test the create method\n",
    "print(\"Inserting document:\")\n",
    "insert_result = shelter.create(sample_insert)\n",
    "print(f\"Insert successful: {insert_result}\")\n",
    "\n",
    "#check for create\n",
    "print(\"Checking for inserted document:\")\n",
    "create = shelter.read({\"name\": \"Spanky\"})\n",
    "for animal in create:\n",
    "    print(animal)\n",
    "    \n",
    "# Failing test case for create method\n",
    "print(\"\\nInserting invalid data:\")\n",
    "try:\n",
    "    insert_result = shelter.create(None)\n",
    "    print(f\"Insert successful: {insert_result}\")\n",
    "except ValueError as e:\n",
    "    print(f\"Insert failed: {e}\")\n",
    "\n",
    "# Define a query to read documents\n",
    "query = {\"animal_type\": \"Dog\"}\n",
    "\n",
    "# Test the read method\n",
    "print(\"\\nQuerying documents:\")\n",
    "read_result = shelter.read(query)\n",
    "print(f\"Documents found: {len(read_result)}\")\n",
    "\n",
    "# Failing test case for read method\n",
    "print(\"\\nQuerying documents with no matches:\")\n",
    "read_result = shelter.read({\"animal_type\": \"Turtles\"})\n",
    "print(f\"Documents found: {len(read_result)}\")\n"
   ]
  },
  {
   "cell_type": "code",
   "execution_count": null,
   "id": "ee157fa8",
   "metadata": {},
   "outputs": [],
   "source": []
  },
  {
   "cell_type": "code",
   "execution_count": null,
   "id": "5c38b739",
   "metadata": {},
   "outputs": [],
   "source": []
  }
 ],
 "metadata": {
  "kernelspec": {
   "display_name": "Python 3 (ipykernel)",
   "language": "python",
   "name": "python3"
  },
  "language_info": {
   "codemirror_mode": {
    "name": "ipython",
    "version": 3
   },
   "file_extension": ".py",
   "mimetype": "text/x-python",
   "name": "python",
   "nbconvert_exporter": "python",
   "pygments_lexer": "ipython3",
   "version": "3.9.12"
  }
 },
 "nbformat": 4,
 "nbformat_minor": 5
}
